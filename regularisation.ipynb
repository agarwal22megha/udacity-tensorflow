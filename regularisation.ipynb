{
 "cells": [
  {
   "cell_type": "code",
   "execution_count": 1,
   "metadata": {
    "collapsed": true
   },
   "outputs": [],
   "source": [
    "from __future__ import print_function\n",
    "import numpy as np\n",
    "import tensorflow as tf\n",
    "from six.moves import cPickle as pickle"
   ]
  },
  {
   "cell_type": "code",
   "execution_count": 2,
   "metadata": {},
   "outputs": [
    {
     "name": "stdout",
     "output_type": "stream",
     "text": [
      "Training set: (200000, 28, 28) (200000,)\n",
      "Validation set: (10000, 28, 28) (10000,)\n",
      "Test set: (10000, 28, 28) (10000,)\n"
     ]
    }
   ],
   "source": [
    "pickle_file = \"notMNIST.pickle\"\n",
    "with open(pickle_file, \"rb\") as fp:\n",
    "    all_data = pickle.load(fp)\n",
    "    train_dataset = all_data[\"train_dataset\"]\n",
    "    train_labels = all_data[\"train_labels\"]\n",
    "    validation_dataset = all_data[\"valid_dataset\"]\n",
    "    validation_labels = all_data[\"valid_labels\"]\n",
    "    test_dataset = all_data[\"test_dataset\"]\n",
    "    test_labels = all_data[\"test_labels\"]\n",
    "    del all_data\n",
    "    print(\"Training set: {} {}\".format(train_dataset.shape, train_labels.shape))\n",
    "    print(\"Validation set: {} {}\".format(validation_dataset.shape, validation_labels.shape))\n",
    "    print(\"Test set: {} {}\".format(test_dataset.shape, test_labels.shape))"
   ]
  },
  {
   "cell_type": "code",
   "execution_count": 3,
   "metadata": {},
   "outputs": [
    {
     "name": "stdout",
     "output_type": "stream",
     "text": [
      "Training set: (200000, 784) (200000, 10)\n",
      "Validation set: (10000, 784) (10000, 10)\n",
      "Test set: (10000, 784) (10000, 10)\n"
     ]
    }
   ],
   "source": [
    "image_size = 28\n",
    "num_labels = 10\n",
    "\n",
    "def reformat(dataset, labels):\n",
    "    dataset = dataset.reshape(-1, image_size * image_size)\n",
    "    labels = (np.arange(num_labels) == labels[:, None]).astype(np.float32)\n",
    "    return dataset, labels\n",
    "\n",
    "train_dataset, train_labels = reformat(train_dataset, train_labels)\n",
    "validation_dataset, validation_labels = reformat(validation_dataset, validation_labels)\n",
    "test_dataset, test_labels = reformat(test_dataset, test_labels)\n",
    "\n",
    "print(\"Training set: {} {}\".format(train_dataset.shape, train_labels.shape))\n",
    "print(\"Validation set: {} {}\".format(validation_dataset.shape, validation_labels.shape))\n",
    "print(\"Test set: {} {}\".format(test_dataset.shape, test_labels.shape))"
   ]
  },
  {
   "cell_type": "code",
   "execution_count": 4,
   "metadata": {
    "collapsed": true
   },
   "outputs": [],
   "source": [
    "def accuracy(predictions, labels):\n",
    "    num_hits = np.sum(np.argmax(predictions, 1) == np.argmax(labels, 1))\n",
    "    return 100.0 * num_hits / predictions.shape[0]"
   ]
  },
  {
   "cell_type": "code",
   "execution_count": 28,
   "metadata": {},
   "outputs": [],
   "source": [
    "batch_size = 128\n",
    "nodes_layer_1 = 1024\n",
    "nodes_layer_2 = 256\n",
    "graph = tf.Graph()\n",
    "beta_regularisation = 1e-3 \n",
    "\n",
    "with graph.as_default():\n",
    "    \n",
    "    tf_train_dataset = tf.placeholder(tf.float32, shape=(batch_size, image_size * image_size))\n",
    "    tf_train_labels = tf.placeholder(tf.float32, shape=(batch_size, num_labels))    \n",
    "    tf_validation_dataset = tf.constant(validation_dataset)\n",
    "    tf_test_dataset = tf.constant(test_dataset)\n",
    "\n",
    "    global_step = tf.Variable(0)\n",
    "\n",
    "    weights_1 = tf.Variable(tf.truncated_normal(\n",
    "        [image_size * image_size, nodes_layer_1],\n",
    "        stddev=np.sqrt(2.0 / (image_size * image_size))))\n",
    "    weights_2 = tf.Variable(tf.truncated_normal(\n",
    "        [nodes_layer_1, nodes_layer_2],\n",
    "        stddev=np.sqrt( 2.0 / nodes_layer_1)))\n",
    "    weights_3 = tf.Variable(tf.truncated_normal(\n",
    "        [nodes_layer_2, num_labels],\n",
    "        stddev=np.sqrt(2.0 / nodes_layer_2)))\n",
    "    \n",
    "    bias_1 = tf.Variable(tf.zeros(nodes_layer_1))\n",
    "    bias_2 = tf.Variable(tf.zeros(nodes_layer_2))\n",
    "    bias_3 = tf.Variable(tf.zeros(num_labels))\n",
    "    \n",
    "    logits_train_1 = tf.matmul(tf_train_dataset, weights_1) + bias_1\n",
    "    relu_train_1 = tf.nn.relu(logits_train_1)\n",
    "    dropout_train_1 = tf.nn.dropout(relu_train_1, 0.5)\n",
    "\n",
    "    logits_train_2 = tf.matmul(dropout_train_1, weights_2) + bias_2\n",
    "    relu_train_2 = tf.nn.relu(logits_train_2)\n",
    "    dropout_train_2 = tf.nn.dropout(relu_train_2, 0.5)\n",
    "    \n",
    "    logits_train_3 = tf.matmul(dropout_train_2, weights_3) + bias_3\n",
    "    \n",
    "    prediction_loss = tf.reduce_mean(tf.nn.softmax_cross_entropy_with_logits(labels=tf_train_labels, \n",
    "                                                                 logits=logits_train_3))\n",
    "    \n",
    "    l2_train_1 = tf.nn.l2_loss(weights_1) * beta_regularisation\n",
    "    l2_train_2 = tf.nn.l2_loss(weights_2) * beta_regularisation\n",
    "    l2_train_3 = tf.nn.l2_loss(weights_3) * beta_regularisation\n",
    "    \n",
    "    loss = prediction_loss + l2_train_1 + l2_train_2 + l2_train_3\n",
    "    \n",
    "    learning_rate = tf.train.exponential_decay(0.5, global_step,\n",
    "                                              1000, 0.65, staircase=True)\n",
    "    optimiser = tf.train.GradientDescentOptimizer(learning_rate).minimize(loss, global_step)\n",
    "    \n",
    "    train_prediction = tf.nn.softmax(logits_train_3)\n",
    "    \n",
    "    relu_validation_1 = tf.nn.relu(tf.matmul(tf_validation_dataset, weights_1) + bias_1)\n",
    "    relu_validation_2 = tf.nn.relu(tf.matmul(relu_validation_1, weights_2) + bias_2)\n",
    "    validation_prediction = tf.nn.softmax(tf.matmul(relu_validation_2, weights_3) + bias_3)\n",
    "\n",
    "    relu_test_1 = tf.nn.relu(tf.matmul(tf_test_dataset, weights_1) + bias_1)\n",
    "    relu_test_2 = tf.nn.relu(tf.matmul(relu_test_1, weights_2) + bias_2)\n",
    "    test_prediction = tf.nn.softmax(tf.matmul(relu_test_2, weights_3) + bias_3)\n",
    "\n"
   ]
  },
  {
   "cell_type": "code",
   "execution_count": 27,
   "metadata": {
    "scrolled": false
   },
   "outputs": [
    {
     "name": "stdout",
     "output_type": "stream",
     "text": [
      "Initialised\n",
      "Minibatch Loss at step 0: 3.675792932510376\n",
      "Minibatch Training Accuracy: 9.375%\n",
      "Minibatch Validation Accuracy: 25.98%\n",
      "Minibatch Loss at step 500: 1.1227883100509644\n",
      "Minibatch Training Accuracy: 87.5%\n",
      "Minibatch Validation Accuracy: 84.27%\n",
      "Minibatch Loss at step 1000: 1.0065196752548218\n",
      "Minibatch Training Accuracy: 85.15625%\n",
      "Minibatch Validation Accuracy: 85.04%\n",
      "Minibatch Loss at step 1500: 0.7261525392532349\n",
      "Minibatch Training Accuracy: 89.84375%\n",
      "Minibatch Validation Accuracy: 86.29%\n",
      "Minibatch Loss at step 2000: 0.6387689113616943\n",
      "Minibatch Training Accuracy: 92.96875%\n",
      "Minibatch Validation Accuracy: 86.78%\n",
      "Minibatch Loss at step 2500: 0.7091624736785889\n",
      "Minibatch Training Accuracy: 86.71875%\n",
      "Minibatch Validation Accuracy: 87.02%\n",
      "Minibatch Loss at step 3000: 0.6559233069419861\n",
      "Minibatch Training Accuracy: 88.28125%\n",
      "Minibatch Validation Accuracy: 87.26%\n",
      "Minibatch Loss at step 3500: 0.6370564103126526\n",
      "Minibatch Training Accuracy: 86.71875%\n",
      "Minibatch Validation Accuracy: 87.98%\n",
      "Minibatch Loss at step 4000: 0.5777164697647095\n",
      "Minibatch Training Accuracy: 89.0625%\n",
      "Minibatch Validation Accuracy: 87.78%\n",
      "Minibatch Loss at step 4500: 0.5292646884918213\n",
      "Minibatch Training Accuracy: 89.84375%\n",
      "Minibatch Validation Accuracy: 88.32%\n",
      "Minibatch Loss at step 5000: 0.5495288968086243\n",
      "Minibatch Training Accuracy: 89.0625%\n",
      "Minibatch Validation Accuracy: 88.6%\n",
      "Test Accuracy: 94.33\n"
     ]
    }
   ],
   "source": [
    "num_steps = 5001\n",
    "\n",
    "with tf.Session(graph=graph) as session:\n",
    "    tf.global_variables_initializer().run()\n",
    "    print(\"Initialised\")\n",
    "    \n",
    "    for step in range(num_steps):\n",
    "        offset = (step * batch_size) % (train_labels.shape[0] - batch_size)\n",
    "        \n",
    "        batch_dataset = train_dataset[offset:(offset + batch_size), : ]\n",
    "        batch_labels = train_labels[offset:(offset + batch_size), : ]\n",
    "        \n",
    "        feed_dict = {tf_train_dataset: batch_dataset,\n",
    "                     tf_train_labels: batch_labels}\n",
    "        \n",
    "        _, loss_step, prediction_step = session.run([optimiser, loss, train_prediction],\n",
    "                                                    feed_dict = feed_dict)\n",
    "        \n",
    "        if step % 500 == 0:\n",
    "            print(\"Minibatch Loss at step {}: {}\".format(step, loss_step))\n",
    "            print(\"Minibatch Training Accuracy: {}%\".format(accuracy(prediction_step, batch_labels)))\n",
    "            print(\"Minibatch Validation Accuracy: {}%\".format(accuracy(validation_prediction.eval(), validation_labels)))\n",
    "\n",
    "    print(\"Test Accuracy: {}\".format(accuracy(test_prediction.eval(), test_labels)))"
   ]
  },
  {
   "cell_type": "code",
   "execution_count": null,
   "metadata": {
    "collapsed": true
   },
   "outputs": [],
   "source": []
  },
  {
   "cell_type": "code",
   "execution_count": null,
   "metadata": {
    "collapsed": true
   },
   "outputs": [],
   "source": []
  },
  {
   "cell_type": "code",
   "execution_count": null,
   "metadata": {
    "collapsed": true
   },
   "outputs": [],
   "source": []
  },
  {
   "cell_type": "code",
   "execution_count": null,
   "metadata": {
    "collapsed": true
   },
   "outputs": [],
   "source": []
  }
 ],
 "metadata": {
  "kernelspec": {
   "display_name": "Python [conda env:beach]",
   "language": "python",
   "name": "conda-env-beach-py"
  },
  "language_info": {
   "codemirror_mode": {
    "name": "ipython",
    "version": 3
   },
   "file_extension": ".py",
   "mimetype": "text/x-python",
   "name": "python",
   "nbconvert_exporter": "python",
   "pygments_lexer": "ipython3",
   "version": "3.5.3"
  }
 },
 "nbformat": 4,
 "nbformat_minor": 2
}
