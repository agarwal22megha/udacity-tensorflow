{
 "cells": [
  {
   "cell_type": "code",
   "execution_count": 1,
   "metadata": {
    "collapsed": true
   },
   "outputs": [],
   "source": [
    "from __future__ import print_function\n",
    "import numpy as np\n",
    "import tensorflow as tf\n",
    "from six.moves import cPickle as pickle"
   ]
  },
  {
   "cell_type": "code",
   "execution_count": 2,
   "metadata": {},
   "outputs": [
    {
     "name": "stdout",
     "output_type": "stream",
     "text": [
      "Training set: (200000, 28, 28) (200000,)\n",
      "Validation set: (10000, 28, 28) (10000,)\n",
      "Test set: (10000, 28, 28) (10000,)\n"
     ]
    }
   ],
   "source": [
    "pickle_file = \"notMNIST.pickle\"\n",
    "with open(pickle_file, \"rb\") as fp:\n",
    "    all_data = pickle.load(fp)\n",
    "    train_dataset = all_data[\"train_dataset\"]\n",
    "    train_labels = all_data[\"train_labels\"]\n",
    "    validation_dataset = all_data[\"valid_dataset\"]\n",
    "    validation_labels = all_data[\"valid_labels\"]\n",
    "    test_dataset = all_data[\"test_dataset\"]\n",
    "    test_labels = all_data[\"test_labels\"]\n",
    "    del all_data\n",
    "    print(\"Training set: {} {}\".format(train_dataset.shape, train_labels.shape))\n",
    "    print(\"Validation set: {} {}\".format(validation_dataset.shape, validation_labels.shape))\n",
    "    print(\"Test set: {} {}\".format(test_dataset.shape, test_labels.shape))"
   ]
  },
  {
   "cell_type": "code",
   "execution_count": 3,
   "metadata": {},
   "outputs": [
    {
     "name": "stdout",
     "output_type": "stream",
     "text": [
      "Training set: (200000, 28, 28, 1) (200000, 10)\n",
      "Validation set: (10000, 28, 28, 1) (10000, 10)\n",
      "Test set: (10000, 28, 28, 1) (10000, 10)\n"
     ]
    }
   ],
   "source": [
    "image_size = 28\n",
    "num_labels = 10\n",
    "num_channels = 1\n",
    "\n",
    "def reformat(dataset, labels):\n",
    "    dataset = dataset.reshape(-1, image_size, image_size, num_channels)\n",
    "    labels = (np.arange(num_labels) == labels[:, None]).astype(np.float32)\n",
    "    return dataset, labels\n",
    "\n",
    "train_dataset, train_labels = reformat(train_dataset, train_labels)\n",
    "validation_dataset, validation_labels = reformat(validation_dataset, validation_labels)\n",
    "test_dataset, test_labels = reformat(test_dataset, test_labels)\n",
    "\n",
    "print(\"Training set: {} {}\".format(train_dataset.shape, train_labels.shape))\n",
    "print(\"Validation set: {} {}\".format(validation_dataset.shape, validation_labels.shape))\n",
    "print(\"Test set: {} {}\".format(test_dataset.shape, test_labels.shape))"
   ]
  },
  {
   "cell_type": "code",
   "execution_count": 4,
   "metadata": {
    "collapsed": true
   },
   "outputs": [],
   "source": [
    "def accuracy(predictions, labels):\n",
    "    num_hits = np.sum(np.argmax(predictions, 1) == np.argmax(labels, 1))\n",
    "    return 100.0 * num_hits / predictions.shape[0]"
   ]
  },
  {
   "cell_type": "code",
   "execution_count": 47,
   "metadata": {
    "scrolled": false
   },
   "outputs": [],
   "source": [
    "batch_size = 16\n",
    "patch_size = 5\n",
    "depth = 16\n",
    "num_hidden = 64\n",
    "\n",
    "graph = tf.Graph()\n",
    "\n",
    "with graph.as_default():\n",
    "    tf_train_dataset = tf.placeholder(tf.float32, \n",
    "                                     shape=(batch_size, image_size, image_size, num_channels))\n",
    "    tf_train_labels = tf.placeholder(tf.float32, shape=(batch_size, num_labels))\n",
    "    tf_validation_dataset = tf.constant(validation_dataset)\n",
    "    tf_test_dataset = tf.constant(test_dataset)\n",
    "    \n",
    "    weights_1 = tf.Variable(tf.truncated_normal(\n",
    "        [patch_size, patch_size, num_channels, depth], stddev=0.1))\n",
    "    weights_2 = tf.Variable(tf.truncated_normal(\n",
    "        [patch_size, patch_size, depth, depth], stddev=0.1))\n",
    "    size_post_2_poolings = (((image_size - 4) // 2) - 4) // 2\n",
    "    weights_3 = tf.Variable(tf.truncated_normal(\n",
    "        [size_post_2_poolings * size_post_2_poolings * depth, num_hidden], stddev=0.1))\n",
    "    weights_4 = tf.Variable(tf.truncated_normal(\n",
    "        [num_hidden, num_labels], stddev=0.1))\n",
    "    \n",
    "    bias_1 = tf.Variable(tf.zeros([depth]))\n",
    "    bias_2 = tf.Variable(tf.constant(1.0, shape=[depth]))\n",
    "    bias_3 = tf.Variable(tf.constant(1.0, shape=[num_hidden]))\n",
    "    bias_4 = tf.Variable(tf.constant(1.0, shape=[num_labels]))\n",
    "    \n",
    "    def model(data):\n",
    "        conv_1 = tf.nn.conv2d(data, weights_1, [1, 1, 1, 1], padding=\"VALID\")\n",
    "        relu_1 = tf.nn.relu(conv_1 + bias_1)\n",
    "        pool_1 = tf.nn.max_pool(relu_1, [1, 2, 2, 1], [1, 2, 2, 1], padding=\"VALID\")\n",
    "        \n",
    "        conv_2 = tf.nn.conv2d(pool_1, weights_2, [1, 1, 1, 1], padding=\"VALID\")\n",
    "        relu_2 = tf.nn.relu(conv_2 + bias_2)\n",
    "        pool_2 = tf.nn.max_pool(relu_2, [1, 2, 2, 1], [1, 2, 2, 1], padding=\"VALID\")\n",
    "        \n",
    "        shape = pool_2.get_shape().as_list()\n",
    "        reshaped_pool_2 = tf.reshape(pool_2, [shape[0], shape[1] * shape[2] * shape[3]])\n",
    "        \n",
    "        relu_3 = tf.nn.relu(tf.matmul(reshaped_pool_2, weights_3) + bias_3)\n",
    "        return tf.matmul(relu_3, weights_4) + bias_4\n",
    "    \n",
    "    logits = model(tf_train_dataset)\n",
    "    loss = tf.reduce_mean(tf.nn.softmax_cross_entropy_with_logits(\n",
    "                          labels=tf_train_labels, logits=logits))\n",
    "    \n",
    "    optimiser = tf.train.GradientDescentOptimizer(0.05).minimize(loss)\n",
    "    \n",
    "    train_prediction = tf.nn.softmax(logits)\n",
    "    validation_prediction = tf.nn.softmax(model(tf_validation_dataset))\n",
    "    test_prediction = tf.nn.softmax(model(tf_test_dataset))        \n",
    "    "
   ]
  },
  {
   "cell_type": "code",
   "execution_count": 48,
   "metadata": {},
   "outputs": [
    {
     "name": "stdout",
     "output_type": "stream",
     "text": [
      "Initialised\n",
      "Minibatch Loss at step 0: 2.73628306388855\n",
      "Minibatch Training Accuracy: 12.5%\n",
      "Minibatch Validation Accuracy: 10.0%\n",
      "Minibatch Loss at step 500: 0.5637091398239136\n",
      "Minibatch Training Accuracy: 87.5%\n",
      "Minibatch Validation Accuracy: 80.58%\n",
      "Minibatch Loss at step 1000: 0.33233723044395447\n",
      "Minibatch Training Accuracy: 93.75%\n",
      "Minibatch Validation Accuracy: 82.89%\n",
      "Minibatch Loss at step 1500: 0.5805478692054749\n",
      "Minibatch Training Accuracy: 81.25%\n",
      "Minibatch Validation Accuracy: 84.42%\n",
      "Minibatch Loss at step 2000: 0.09617877006530762\n",
      "Minibatch Training Accuracy: 100.0%\n",
      "Minibatch Validation Accuracy: 85.38%\n",
      "Test Accuracy: 91.59\n"
     ]
    }
   ],
   "source": [
    "num_steps = 2001\n",
    "\n",
    "with tf.Session(graph=graph) as session:\n",
    "    tf.global_variables_initializer().run()\n",
    "    print(\"Initialised\")\n",
    "    \n",
    "    for step in range(num_steps):\n",
    "        offset = (step * batch_size) % (train_labels.shape[0] - batch_size)\n",
    "        batch_data = train_dataset[offset:(offset + batch_size), :, :, :]\n",
    "        batch_labels = train_labels[offset:(offset + batch_size), :]\n",
    "        feed_dict = {tf_train_dataset: batch_data, tf_train_labels: batch_labels}\n",
    "        \n",
    "        _, loss_step, prediction_step = session.run([optimiser, loss, train_prediction],\n",
    "                                                   feed_dict=feed_dict)\n",
    "        if step % 500 == 0:\n",
    "            print(\"Minibatch Loss at step {}: {}\".format(step, loss_step))\n",
    "            print(\"Minibatch Training Accuracy: {}%\".format(accuracy(prediction_step, batch_labels)))\n",
    "            print(\"Minibatch Validation Accuracy: {}%\".format(accuracy(validation_prediction.eval(), validation_labels)))\n",
    "\n",
    "    print(\"Test Accuracy: {}\".format(accuracy(test_prediction.eval(), test_labels)))        \n"
   ]
  },
  {
   "cell_type": "code",
   "execution_count": null,
   "metadata": {
    "collapsed": true
   },
   "outputs": [],
   "source": []
  },
  {
   "cell_type": "code",
   "execution_count": null,
   "metadata": {
    "collapsed": true
   },
   "outputs": [],
   "source": []
  }
 ],
 "metadata": {
  "kernelspec": {
   "display_name": "Python [conda env:beach]",
   "language": "python",
   "name": "conda-env-beach-py"
  },
  "language_info": {
   "codemirror_mode": {
    "name": "ipython",
    "version": 3
   },
   "file_extension": ".py",
   "mimetype": "text/x-python",
   "name": "python",
   "nbconvert_exporter": "python",
   "pygments_lexer": "ipython3",
   "version": "3.5.3"
  }
 },
 "nbformat": 4,
 "nbformat_minor": 2
}
